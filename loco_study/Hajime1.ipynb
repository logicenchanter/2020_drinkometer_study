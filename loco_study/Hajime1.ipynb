{
 "cells": [
  {
   "cell_type": "code",
   "execution_count": null,
   "id": "d4672fc9",
   "metadata": {},
   "outputs": [],
   "source": []
  },
  {
   "cell_type": "code",
   "execution_count": 5,
   "id": "73849335",
   "metadata": {},
   "outputs": [
    {
     "name": "stdout",
     "output_type": "stream",
     "text": [
      "Note: you may need to restart the kernel to use updated packages.\n"
     ]
    },
    {
     "name": "stderr",
     "output_type": "stream",
     "text": [
      "The filename, directory name, or volume label syntax is incorrect.\n"
     ]
    }
   ],
   "source": [
    "pip install jive"
   ]
  },
  {
   "cell_type": "code",
   "execution_count": 10,
   "id": "a76ccdbf",
   "metadata": {},
   "outputs": [],
   "source": [
    "import scipy\n",
    "import joblib\n",
    "import matplotlib.pyplot as plt\n",
    "import numpy as np\n",
    "import pandas as pd\n",
    "import os\n",
    "import sys\n",
    "sys.modules['sklearn.externals.joblib'] = joblib\n",
    "from jive.AJIVE import AJIVE\n",
    "from jive.PCA import PCA\n",
    "from jive.ajive_fig2 import generate_data_ajive_fig2\n",
    "from jive.viz.block_visualization import data_block_heatmaps, jive_full_estimate_heatmaps\n"
   ]
  },
  {
   "cell_type": "code",
   "execution_count": null,
   "id": "a3d7d181",
   "metadata": {},
   "outputs": [],
   "source": []
  },
  {
   "cell_type": "code",
   "execution_count": 11,
   "id": "1af31825",
   "metadata": {},
   "outputs": [],
   "source": [
    "path_ = os.getcwd()\n",
    "#print(path_)\n",
    "path_ = os.chdir('C:\\\\Users\\\\mehrd\\\\Documents\\\\datasets')"
   ]
  },
  {
   "cell_type": "code",
   "execution_count": 29,
   "id": "485a0516",
   "metadata": {},
   "outputs": [],
   "source": [
    "df = pd.read_excel('drinkometer_df_wistar_male_1005_5_consumption.xlsx')"
   ]
  },
  {
   "cell_type": "code",
   "execution_count": 66,
   "id": "f961e65a",
   "metadata": {},
   "outputs": [],
   "source": [
    "X, Y = generate_data_ajive_fig2()"
   ]
  },
  {
   "cell_type": "code",
   "execution_count": null,
   "id": "9ce10bae",
   "metadata": {},
   "outputs": [],
   "source": []
  },
  {
   "cell_type": "code",
   "execution_count": null,
   "id": "e4a428e0",
   "metadata": {},
   "outputs": [],
   "source": [
    "df.loc[(df['day_index'] == 246) & (df['state'] == str(\"dark\"))]['locomotive'].values"
   ]
  },
  {
   "cell_type": "code",
   "execution_count": 78,
   "id": "fa170e48",
   "metadata": {},
   "outputs": [
    {
     "name": "stdout",
     "output_type": "stream",
     "text": [
      "144\n",
      "143\n",
      "(144, 1)\n",
      "(143, 1)\n",
      "<class 'numpy.ndarray'>\n",
      "<class 'numpy.ndarray'>\n"
     ]
    }
   ],
   "source": [
    "print(len(X))\n",
    "print(len(Z))\n",
    "print(X.shape)\n",
    "print(Z.shape)\n",
    "print(type(X))\n",
    "print(type(Z))"
   ]
  },
  {
   "cell_type": "code",
   "execution_count": null,
   "id": "e9bdc91e",
   "metadata": {},
   "outputs": [],
   "source": []
  },
  {
   "cell_type": "code",
   "execution_count": 134,
   "id": "07792de5",
   "metadata": {},
   "outputs": [],
   "source": [
    "df_temp = df.loc[352801:361440]\n",
    "x = df_temp['locomotive'].values\n",
    "x = x[~np.isnan(x)]\n"
   ]
  },
  {
   "cell_type": "code",
   "execution_count": 119,
   "id": "7aa7b23a",
   "metadata": {},
   "outputs": [],
   "source": [
    "df_temp = df.loc[352801:361440]\n",
    "x = df_temp.loc[df_temp['state'] == str(\"dark\")]['locomotive'].values\n",
    "x = x[~np.isnan(x)]\n",
    "\n",
    "y = df_temp.loc[df_temp['state'] == str(\"light\")]['locomotive'].values\n",
    "y = y[~np.isnan(y)]"
   ]
  },
  {
   "cell_type": "code",
   "execution_count": 127,
   "id": "08c78a13",
   "metadata": {},
   "outputs": [],
   "source": [
    "df_temp = df.loc[332641:342720]\n",
    "x = df_temp.loc[df_temp['state'] == str(\"dark\")]['locomotive'].values\n",
    "x = x[~np.isnan(x)]\n",
    "\n",
    "y = df_temp.loc[df_temp['state'] == str(\"light\")]['locomotive'].values\n",
    "y = y[~np.isnan(y)]"
   ]
  },
  {
   "cell_type": "code",
   "execution_count": 128,
   "id": "a54c9f6e",
   "metadata": {},
   "outputs": [],
   "source": [
    "X = np.empty((2, len(x)), dtype=float)\n",
    "X[0][:] = np.arange(1, len(x)+1)\n",
    "X[1][:] = x\n",
    "\n",
    "Y = np.empty((2, len(y)), dtype=float)\n",
    "Y[0][:] = np.arange(1, len(y)+1)\n",
    "Y[1][:] = y"
   ]
  },
  {
   "cell_type": "code",
   "execution_count": null,
   "id": "4f32bd13",
   "metadata": {},
   "outputs": [],
   "source": [
    "X = np.empty((2, len(x)), dtype=float)\n",
    "X[0][:] = np.arange(1, len(x)+1)\n",
    "X[1][:] = x\n",
    "\n",
    "data_block_heatmaps([X])\n",
    "plt.show()"
   ]
  },
  {
   "cell_type": "code",
   "execution_count": null,
   "id": "c54e8311",
   "metadata": {},
   "outputs": [],
   "source": [
    "data_block_heatmaps([X, Y])\n",
    "plt.show()"
   ]
  },
  {
   "cell_type": "code",
   "execution_count": null,
   "id": "cc6be3af",
   "metadata": {},
   "outputs": [],
   "source": [
    "data_block_heatmaps([X, Y])\n",
    "plt.show()"
   ]
  },
  {
   "cell_type": "code",
   "execution_count": null,
   "id": "37452b9d",
   "metadata": {},
   "outputs": [],
   "source": [
    "# determine initial signal ranks by inspecting scree plots\n",
    "plt.figure(figsize=[10, 5])\n",
    "\n",
    "PCA().fit(X).plot_scree()\n",
    "plt.show()"
   ]
  },
  {
   "cell_type": "code",
   "execution_count": null,
   "id": "672d8862",
   "metadata": {},
   "outputs": [],
   "source": [
    "# determine initial signal ranks by inspecting scree plots\n",
    "plt.figure(figsize=[10, 5])\n",
    "plt.subplot(1, 2, 1)\n",
    "PCA().fit(X).plot_scree()\n",
    "plt.subplot(1, 2, 2)\n",
    "PCA().fit(Y).plot_scree()\n",
    "plt.show()"
   ]
  },
  {
   "cell_type": "code",
   "execution_count": null,
   "id": "3f08f1dc",
   "metadata": {},
   "outputs": [],
   "source": [
    "# determine initial signal ranks by inspecting scree plots\n",
    "plt.figure(figsize=[10, 5])\n",
    "plt.subplot(1, 2, 1)\n",
    "PCA().fit(X).plot_scree()\n",
    "plt.subplot(1, 2, 2)\n",
    "PCA().fit(Y).plot_scree()\n",
    "plt.show()"
   ]
  },
  {
   "cell_type": "code",
   "execution_count": null,
   "id": "7a552008",
   "metadata": {},
   "outputs": [],
   "source": [
    "ajive = AJIVE(init_signal_ranks={'x': 1})\n",
    "ajive.fit(blocks={'x': X})\n",
    "\n",
    "plt.figure(figsize=[10, 20])\n",
    "jive_full_estimate_heatmaps(ajive.get_full_block_estimates(),\n",
    "                            blocks={'x': X})\n",
    "\n",
    "plt.show()"
   ]
  },
  {
   "cell_type": "code",
   "execution_count": null,
   "id": "fb88ea39",
   "metadata": {},
   "outputs": [],
   "source": [
    "ajive = AJIVE(init_signal_ranks={'x': 1, 'y': 1})\n",
    "ajive.fit(blocks={'x': X, 'y': Y})\n",
    "\n",
    "plt.figure(figsize=[10, 20])\n",
    "jive_full_estimate_heatmaps(ajive.get_full_block_estimates(),\n",
    "                            blocks={'x': X, 'y': Y})\n",
    "\n",
    "plt.show()"
   ]
  },
  {
   "cell_type": "code",
   "execution_count": null,
   "id": "595af121",
   "metadata": {},
   "outputs": [],
   "source": [
    "ajive = AJIVE(init_signal_ranks={'x': 1, 'y': 1})\n",
    "ajive.fit(blocks={'x': X, 'y': Y})\n",
    "\n",
    "plt.figure(figsize=[10, 20])\n",
    "jive_full_estimate_heatmaps(ajive.get_full_block_estimates(),\n",
    "                            blocks={'x': X, 'y': Y})\n",
    "\n",
    "plt.show()"
   ]
  },
  {
   "cell_type": "code",
   "execution_count": null,
   "id": "2fca8a5e",
   "metadata": {},
   "outputs": [],
   "source": [
    "ajive.plot_joint_diagnostic()\n",
    "plt.show()"
   ]
  },
  {
   "cell_type": "code",
   "execution_count": null,
   "id": "c2a596e4",
   "metadata": {},
   "outputs": [],
   "source": [
    "ajive.plot_joint_diagnostic()\n",
    "plt.show()"
   ]
  },
  {
   "cell_type": "code",
   "execution_count": null,
   "id": "6b92a700",
   "metadata": {},
   "outputs": [],
   "source": [
    "ajive.plot_joint_diagnostic()\n",
    "plt.show()"
   ]
  },
  {
   "cell_type": "code",
   "execution_count": null,
   "id": "8beab78b",
   "metadata": {},
   "outputs": [],
   "source": []
  },
  {
   "cell_type": "code",
   "execution_count": null,
   "id": "baeb574c",
   "metadata": {},
   "outputs": [],
   "source": []
  }
 ],
 "metadata": {
  "interpreter": {
   "hash": "98e784c0672b4fc6020370d8959809b51967d0dfc2b50780aabe93f5798b5f7e"
  },
  "kernelspec": {
   "display_name": "Python 3",
   "language": "python",
   "name": "python3"
  },
  "language_info": {
   "codemirror_mode": {
    "name": "ipython",
    "version": 3
   },
   "file_extension": ".py",
   "mimetype": "text/x-python",
   "name": "python",
   "nbconvert_exporter": "python",
   "pygments_lexer": "ipython3",
   "version": "3.8.11"
  }
 },
 "nbformat": 4,
 "nbformat_minor": 5
}
