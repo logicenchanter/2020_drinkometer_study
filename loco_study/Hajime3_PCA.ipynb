{
 "cells": [
  {
   "cell_type": "code",
   "execution_count": 3,
   "id": "6394a8be",
   "metadata": {},
   "outputs": [],
   "source": [
    "import sys, os\n",
    "import numpy as np\n",
    "import pandas as pd\n",
    "import matplotlib.pyplot as plt\n",
    "from sklearn.decomposition import PCA\n",
    "from sklearn import preprocessing\n",
    "import pickle"
   ]
  },
  {
   "cell_type": "markdown",
   "id": "0c0fb788",
   "metadata": {},
   "source": [
    "# Data Preperation"
   ]
  },
  {
   "cell_type": "code",
   "execution_count": 77,
   "id": "e4ad4725",
   "metadata": {},
   "outputs": [],
   "source": [
    "path_ = os.getcwd()\n",
    "#print(path_)\n",
    "path_ = os.chdir('C:\\\\Users\\\\mehrd\\\\Documents\\\\datasets')\n",
    "\n",
    "\n",
    "df = pd.read_excel('drinkometer_df_wistar_male_1001_1_hourly.xlsx')\n",
    "df_temp = df.loc[5681:6024]\n",
    "df_temp = df_temp.fillna(0)\n",
    "x1 = df_temp['locomotive'].values\n",
    "#x1 = x1[~np.isnan(x1)]\n",
    "y_ = df_temp['alcohol_5'].values\n",
    "y__ = df_temp['alcohol_10'].values\n",
    "y___ = df_temp['alcohol_20'].values\n",
    "a1 = y_ + y__ + y___\n",
    "hours = df_temp['hour_index'].values\n",
    "\n",
    "df = pd.read_excel('drinkometer_df_wistar_male_1003_3_hourly.xlsx')\n",
    "df_temp = df.loc[5681:6024]\n",
    "df_temp = df_temp.fillna(0)\n",
    "x3 = df_temp['locomotive'].values\n",
    "#x1 = x1[~np.isnan(x1)]\n",
    "y_ = df_temp['alcohol_5'].values\n",
    "y__ = df_temp['alcohol_10'].values\n",
    "y___ = df_temp['alcohol_20'].values\n",
    "a3 = y_ + y__ + y___\n",
    "\n",
    "\n",
    "df = pd.read_excel('drinkometer_df_wistar_male_1004_4_hourly.xlsx')\n",
    "df_temp = df.loc[5681:6024]\n",
    "df_temp = df_temp.fillna(0)\n",
    "x4 = df_temp['locomotive'].values\n",
    "#x1 = x1[~np.isnan(x1)]\n",
    "y_ = df_temp['alcohol_5'].values\n",
    "y__ = df_temp['alcohol_10'].values\n",
    "y___ = df_temp['alcohol_20'].values\n",
    "a4 = y_ + y__ + y___\n",
    "\n",
    "\n",
    "df = pd.read_excel('drinkometer_df_wistar_male_1005_5_hourly.xlsx')\n",
    "df_temp = df.loc[5681:6024]\n",
    "df_temp = df_temp.fillna(0)\n",
    "x5 = df_temp['locomotive'].values\n",
    "#x1 = x1[~np.isnan(x1)]\n",
    "y_ = df_temp['alcohol_5'].values\n",
    "y__ = df_temp['alcohol_10'].values\n",
    "y___ = df_temp['alcohol_20'].values\n",
    "a5 = y_ + y__ + y___\n",
    "\n"
   ]
  },
  {
   "cell_type": "code",
   "execution_count": 78,
   "id": "c9155c37",
   "metadata": {},
   "outputs": [],
   "source": [
    "x =['x' + str(i) for i in [1, 3, 4, 5]]\n",
    "a =['a' + str(i) for i in [1, 3, 4, 5]]\n",
    "\n",
    "data = pd.DataFrame(columns = [*x, *a], index = hours)"
   ]
  },
  {
   "cell_type": "code",
   "execution_count": 79,
   "id": "1928ba76",
   "metadata": {},
   "outputs": [
    {
     "name": "stdout",
     "output_type": "stream",
     "text": [
      "         x1     x3     x4      x5   a1   a3        a4   a5\n",
      "5682   61.0   98.0  377.0   325.0  0.0  0.0  0.000000  0.0\n",
      "5683   91.0  474.0  124.0   198.0  0.0  0.0  0.000000  0.0\n",
      "5684  209.0  206.0  133.0   291.0  0.0  0.0  0.000000  0.0\n",
      "5685  395.0  821.0  582.0   303.0  0.0  0.0  0.219829  0.0\n",
      "5686  436.0  192.0  458.0  1001.0  0.0  0.0  0.000000  0.0\n"
     ]
    }
   ],
   "source": [
    "data[\"x1\"] = x1\n",
    "data[\"x3\"] = x3\n",
    "data[\"x4\"] = x4\n",
    "data[\"x5\"] = x5\n",
    "\n",
    "data[\"a1\"] = a1\n",
    "data[\"a3\"] = a3\n",
    "data[\"a4\"] = a4\n",
    "data[\"a5\"] = a5\n",
    "\n",
    "print(data.head())"
   ]
  },
  {
   "cell_type": "markdown",
   "id": "3459d1fa",
   "metadata": {},
   "source": [
    "# PCA"
   ]
  },
  {
   "cell_type": "code",
   "execution_count": 81,
   "id": "67ff4f06",
   "metadata": {},
   "outputs": [],
   "source": [
    "scaled_data = preprocessing.scale(data.T)\n",
    "pca = PCA()\n",
    "pca.fit(scaled_data)\n",
    "pca_data = pca.transform(scaled_data)"
   ]
  },
  {
   "cell_type": "code",
   "execution_count": null,
   "id": "6aa91176",
   "metadata": {},
   "outputs": [],
   "source": [
    "per_var = np.round(pca.explained_variance_ratio_*100, decimals = 1)\n",
    "Labels = ['PC' + str(x) for x in range(1, len(per_var)+1)]\n",
    "\n",
    "plt.bar(x = range(1, len(per_var) + 1), height = per_var, tick_label = Labels)\n",
    "plt.ylabel('Percentage of Explained Variance')\n",
    "plt.xlabel('Principal Component')\n",
    "plt.title('Scree Plot')\n",
    "plt.savefig(\"PCs.png\", dpi=150)\n",
    "plt.show()"
   ]
  },
  {
   "cell_type": "code",
   "execution_count": null,
   "id": "054c20d0",
   "metadata": {},
   "outputs": [],
   "source": [
    "pca_df = pd.DataFrame(pca_data, index = [*x, *a], columns = Labels)\n",
    "\n",
    "plt.scatter(pca_df.PC1, pca_df.PC2)\n",
    "plt.title('My PCA Graph')\n",
    "plt.xlabel('PC1 - {0}%'.format(per_var[0]))\n",
    "plt.ylabel('PC1 - {0}%'.format(per_var[1]))\n",
    "\n",
    "for sample in pca_df.index:\n",
    "    plt.annotate(sample, (pca_df.PC1.loc[sample], pca_df.PC2.loc[sample]))\n",
    "plt.savefig(\"PC1-PC2.png\", dpi=150)\n",
    "plt.show()"
   ]
  },
  {
   "cell_type": "code",
   "execution_count": null,
   "id": "35d7b0b5",
   "metadata": {},
   "outputs": [],
   "source": [
    "pca_df = pd.DataFrame(pca_data, index = [*x, *a], columns = Labels)\n",
    "\n",
    "plt.scatter(pca_df.PC2, pca_df.PC3)\n",
    "plt.title('My PCA Graph')\n",
    "plt.xlabel('PC1 - {0}%'.format(per_var[1]))\n",
    "plt.ylabel('PC1 - {0}%'.format(per_var[2]))\n",
    "\n",
    "for sample in pca_df.index:\n",
    "    plt.annotate(sample, (pca_df.PC2.loc[sample], pca_df.PC3.loc[sample]))\n",
    "\n",
    "plt.show()"
   ]
  },
  {
   "cell_type": "code",
   "execution_count": null,
   "id": "8374ff29",
   "metadata": {},
   "outputs": [],
   "source": [
    "df = pd.read_excel('drinkometer_acp_sigmoid.xlsx')\n",
    "df_temp = df.loc[245:250]\n",
    "df_temp = df_temp.fillna(0)\n",
    "a1 = df_temp['a_1'].values\n",
    "a3 = df_temp['a_3'].values\n",
    "a4 = df_temp['a_4'].values\n",
    "a5 = df_temp['a_5'].values\n",
    "x1 = df_temp['loco_1'].values\n",
    "x3 = df_temp['loco_3'].values\n",
    "x4 = df_temp['loco_4'].values\n",
    "x5 = df_temp['loco_5'].values\n",
    "\n",
    "x =['x' + str(i) for i in [1, 3, 4, 5]]\n",
    "a =['a' + str(i) for i in [1, 3, 4, 5]]\n",
    "days = [247, 248, 249, 250, 251, 252]\n",
    "data = pd.DataFrame(columns = [*x, *a], index = days)\n",
    "\n",
    "data[\"x1\"] = x1\n",
    "data[\"x3\"] = x3\n",
    "data[\"x4\"] = x4\n",
    "data[\"x5\"] = x5\n",
    "\n",
    "data[\"a1\"] = a1\n",
    "data[\"a3\"] = a3\n",
    "data[\"a4\"] = a4\n",
    "data[\"a5\"] = a5\n",
    "\n",
    "print(data.head())\n",
    "\n",
    "scaled_data = preprocessing.scale(data.T)\n",
    "pca = PCA()\n",
    "pca.fit(scaled_data)\n",
    "pca_data = pca.transform(scaled_data)\n",
    "\n",
    "per_var = np.round(pca.explained_variance_ratio_*100, decimals = 1)\n",
    "Labels = ['PC' + str(x) for x in range(1, len(per_var)+1)]\n",
    "\n",
    "plt.bar(x = range(1, len(per_var) + 1), height = per_var, tick_label = Labels)\n",
    "plt.ylabel('Percentage of Explained Variance')\n",
    "plt.xlabel('Principal Component')\n",
    "plt.title('Scree Plot')\n",
    "#plt.savefig(\"PCs.png\", dpi=150)\n",
    "plt.show()\n",
    "\n",
    "\n",
    "pca_df = pd.DataFrame(pca_data, index = [*x, *a], columns = Labels)\n",
    "\n",
    "plt.scatter(pca_df.PC1, pca_df.PC2)\n",
    "plt.title('My PCA Graph')\n",
    "plt.xlabel('PC1 - {0}%'.format(per_var[0]))\n",
    "plt.ylabel('PC1 - {0}%'.format(per_var[1]))\n",
    "\n",
    "for sample in pca_df.index:\n",
    "    plt.annotate(sample, (pca_df.PC1.loc[sample], pca_df.PC2.loc[sample]))\n",
    "#plt.savefig(\"PC1-PC2.png\", dpi=150)\n",
    "plt.show()"
   ]
  },
  {
   "cell_type": "code",
   "execution_count": null,
   "id": "94ae3f46",
   "metadata": {},
   "outputs": [],
   "source": []
  },
  {
   "cell_type": "code",
   "execution_count": null,
   "id": "e76f2862",
   "metadata": {
    "scrolled": true
   },
   "outputs": [],
   "source": []
  },
  {
   "cell_type": "code",
   "execution_count": null,
   "id": "623fd50d",
   "metadata": {},
   "outputs": [],
   "source": []
  },
  {
   "cell_type": "code",
   "execution_count": null,
   "id": "59b0651b",
   "metadata": {},
   "outputs": [],
   "source": []
  },
  {
   "cell_type": "code",
   "execution_count": null,
   "id": "c109a11e",
   "metadata": {},
   "outputs": [],
   "source": []
  },
  {
   "cell_type": "code",
   "execution_count": null,
   "id": "a14d0403",
   "metadata": {},
   "outputs": [],
   "source": []
  },
  {
   "cell_type": "code",
   "execution_count": 85,
   "id": "04cbc8c7",
   "metadata": {},
   "outputs": [],
   "source": [
    "import pyActigraphy"
   ]
  },
  {
   "cell_type": "code",
   "execution_count": 103,
   "id": "d0b31086",
   "metadata": {},
   "outputs": [
    {
     "data": {
      "text/html": [
       "<div>\n",
       "<style scoped>\n",
       "    .dataframe tbody tr th:only-of-type {\n",
       "        vertical-align: middle;\n",
       "    }\n",
       "\n",
       "    .dataframe tbody tr th {\n",
       "        vertical-align: top;\n",
       "    }\n",
       "\n",
       "    .dataframe thead th {\n",
       "        text-align: right;\n",
       "    }\n",
       "</style>\n",
       "<table border=\"1\" class=\"dataframe\">\n",
       "  <thead>\n",
       "    <tr style=\"text-align: right;\">\n",
       "      <th></th>\n",
       "      <th>date</th>\n",
       "      <th>time</th>\n",
       "      <th>day_index</th>\n",
       "      <th>hour_index</th>\n",
       "      <th>animal</th>\n",
       "      <th>box</th>\n",
       "      <th>strain</th>\n",
       "      <th>state</th>\n",
       "      <th>oxytocin</th>\n",
       "      <th>quinine</th>\n",
       "      <th>water</th>\n",
       "      <th>alcohol_5</th>\n",
       "      <th>alcohol_10</th>\n",
       "      <th>alcohol_20</th>\n",
       "      <th>locomotive</th>\n",
       "    </tr>\n",
       "  </thead>\n",
       "  <tbody>\n",
       "    <tr>\n",
       "      <th>5681</th>\n",
       "      <td>2020-10-05</td>\n",
       "      <td>17:00:00</td>\n",
       "      <td>237</td>\n",
       "      <td>5682</td>\n",
       "      <td>1001</td>\n",
       "      <td>1</td>\n",
       "      <td>wistar</td>\n",
       "      <td>light</td>\n",
       "      <td>NaN</td>\n",
       "      <td>NaN</td>\n",
       "      <td>NaN</td>\n",
       "      <td>NaN</td>\n",
       "      <td>NaN</td>\n",
       "      <td>NaN</td>\n",
       "      <td>61.0</td>\n",
       "    </tr>\n",
       "    <tr>\n",
       "      <th>5682</th>\n",
       "      <td>2020-10-05</td>\n",
       "      <td>18:00:00</td>\n",
       "      <td>237</td>\n",
       "      <td>5683</td>\n",
       "      <td>1001</td>\n",
       "      <td>1</td>\n",
       "      <td>wistar</td>\n",
       "      <td>light</td>\n",
       "      <td>NaN</td>\n",
       "      <td>NaN</td>\n",
       "      <td>NaN</td>\n",
       "      <td>NaN</td>\n",
       "      <td>NaN</td>\n",
       "      <td>NaN</td>\n",
       "      <td>91.0</td>\n",
       "    </tr>\n",
       "    <tr>\n",
       "      <th>5683</th>\n",
       "      <td>2020-10-05</td>\n",
       "      <td>19:00:00</td>\n",
       "      <td>237</td>\n",
       "      <td>5684</td>\n",
       "      <td>1001</td>\n",
       "      <td>1</td>\n",
       "      <td>wistar</td>\n",
       "      <td>dark</td>\n",
       "      <td>NaN</td>\n",
       "      <td>NaN</td>\n",
       "      <td>2.74</td>\n",
       "      <td>NaN</td>\n",
       "      <td>NaN</td>\n",
       "      <td>NaN</td>\n",
       "      <td>209.0</td>\n",
       "    </tr>\n",
       "    <tr>\n",
       "      <th>5684</th>\n",
       "      <td>2020-10-05</td>\n",
       "      <td>20:00:00</td>\n",
       "      <td>237</td>\n",
       "      <td>5685</td>\n",
       "      <td>1001</td>\n",
       "      <td>1</td>\n",
       "      <td>wistar</td>\n",
       "      <td>dark</td>\n",
       "      <td>NaN</td>\n",
       "      <td>NaN</td>\n",
       "      <td>3.48</td>\n",
       "      <td>NaN</td>\n",
       "      <td>NaN</td>\n",
       "      <td>NaN</td>\n",
       "      <td>395.0</td>\n",
       "    </tr>\n",
       "    <tr>\n",
       "      <th>5685</th>\n",
       "      <td>2020-10-05</td>\n",
       "      <td>21:00:00</td>\n",
       "      <td>237</td>\n",
       "      <td>5686</td>\n",
       "      <td>1001</td>\n",
       "      <td>1</td>\n",
       "      <td>wistar</td>\n",
       "      <td>dark</td>\n",
       "      <td>NaN</td>\n",
       "      <td>NaN</td>\n",
       "      <td>NaN</td>\n",
       "      <td>NaN</td>\n",
       "      <td>NaN</td>\n",
       "      <td>NaN</td>\n",
       "      <td>436.0</td>\n",
       "    </tr>\n",
       "  </tbody>\n",
       "</table>\n",
       "</div>"
      ],
      "text/plain": [
       "            date      time  day_index  hour_index  animal  box  strain  state  \\\n",
       "5681  2020-10-05  17:00:00        237        5682    1001    1  wistar  light   \n",
       "5682  2020-10-05  18:00:00        237        5683    1001    1  wistar  light   \n",
       "5683  2020-10-05  19:00:00        237        5684    1001    1  wistar   dark   \n",
       "5684  2020-10-05  20:00:00        237        5685    1001    1  wistar   dark   \n",
       "5685  2020-10-05  21:00:00        237        5686    1001    1  wistar   dark   \n",
       "\n",
       "     oxytocin quinine  water  alcohol_5  alcohol_10  alcohol_20  locomotive  \n",
       "5681      NaN     NaN    NaN        NaN         NaN         NaN        61.0  \n",
       "5682      NaN     NaN    NaN        NaN         NaN         NaN        91.0  \n",
       "5683      NaN     NaN   2.74        NaN         NaN         NaN       209.0  \n",
       "5684      NaN     NaN   3.48        NaN         NaN         NaN       395.0  \n",
       "5685      NaN     NaN    NaN        NaN         NaN         NaN       436.0  "
      ]
     },
     "execution_count": 103,
     "metadata": {},
     "output_type": "execute_result"
    }
   ],
   "source": [
    "df = pd.read_excel('drinkometer_df_wistar_male_1001_1_hourly.xlsx')\n",
    "df_temp = df.loc[5681:6024]\n",
    "#df_temp = df_temp.drop(columns=['day_index', 'hour_index', 'animal', 'box', 'strain', 'state'\n",
    "#                     , 'oxytocin', 'quinine', 'water', 'alcohol_5'\n",
    "#                     , 'alcohol_10', 'alcohol_20'])\n",
    "df_temp.head()"
   ]
  },
  {
   "cell_type": "code",
   "execution_count": null,
   "id": "f0f25902",
   "metadata": {},
   "outputs": [],
   "source": []
  },
  {
   "cell_type": "markdown",
   "id": "baed0fca",
   "metadata": {},
   "source": [
    "# non-parametric variables"
   ]
  },
  {
   "cell_type": "code",
   "execution_count": 93,
   "id": "e95eb968",
   "metadata": {},
   "outputs": [],
   "source": [
    "from pyActigraphy.io import BaseRaw"
   ]
  },
  {
   "cell_type": "code",
   "execution_count": null,
   "id": "7db8d32f",
   "metadata": {},
   "outputs": [],
   "source": []
  },
  {
   "cell_type": "code",
   "execution_count": 104,
   "id": "ed133d26",
   "metadata": {},
   "outputs": [],
   "source": []
  },
  {
   "cell_type": "code",
   "execution_count": 152,
   "id": "61ad6970",
   "metadata": {},
   "outputs": [
    {
     "name": "stdout",
     "output_type": "stream",
     "text": [
      "<344 * Hours>\n",
      "344\n",
      "0.5415884377316886\n",
      "1.2885775841334122\n",
      "0.47945538380860403\n"
     ]
    }
   ],
   "source": [
    "df = pd.read_excel('drinkometer_df_wistar_male_1001_1_hourly.xlsx')\n",
    "df_temp = df.loc[5681:6024]\n",
    "df_temp = df_temp.fillna(0)\n",
    "x1 = df_temp['locomotive'].values\n",
    "d = {'activity': x1}\n",
    "N = 344\n",
    "index = pd.date_range(start='2020-10-05',freq='1h',periods=N)\n",
    "data = pd.DataFrame(index=index,data=d)\n",
    "raw = BaseRaw(\n",
    "    name=\"myName\",\n",
    "    uuid='DeviceId',\n",
    "    format='Pandas',\n",
    "    axial_mode=None,\n",
    "    start_time=data.index[0],\n",
    "    period=(data.index[-1]-data.index[0]),\n",
    "    frequency=data.index.freq,\n",
    "    data=data['activity'],\n",
    "    light=[]\n",
    ")\n",
    "raw.data\n",
    "print(raw.duration())\n",
    "print(raw.length())\n",
    "print(raw.IS(binarize=False))\n",
    "print(raw.IV(binarize=False))\n",
    "print(raw.RA(binarize=False))"
   ]
  },
  {
   "cell_type": "code",
   "execution_count": 116,
   "id": "530cd119",
   "metadata": {},
   "outputs": [],
   "source": []
  },
  {
   "cell_type": "code",
   "execution_count": null,
   "id": "163dbddc",
   "metadata": {},
   "outputs": [],
   "source": []
  },
  {
   "cell_type": "code",
   "execution_count": null,
   "id": "529a5bdd",
   "metadata": {},
   "outputs": [],
   "source": []
  },
  {
   "cell_type": "code",
   "execution_count": null,
   "id": "6e585a23",
   "metadata": {},
   "outputs": [],
   "source": []
  },
  {
   "cell_type": "code",
   "execution_count": 153,
   "id": "49dc8419",
   "metadata": {},
   "outputs": [
    {
     "name": "stdout",
     "output_type": "stream",
     "text": [
      "<604800 * Seconds>\n",
      "10080\n",
      "0.504410574970989\n",
      "0.9308629630525515\n",
      "0.5483584344040162\n"
     ]
    }
   ],
   "source": [
    "df = pd.read_excel('drinkometer_df_wistar_male_1001_1_consumption.xlsx')\n",
    "df_temp = df.loc[332641:342720]\n",
    "df_temp = df_temp.fillna(0)\n",
    "x1 = df_temp['locomotive'].values\n",
    "d = {'activity': x1}\n",
    "N = 10080\n",
    "index = pd.date_range(start='2020-10-05',freq='60s',periods=N)\n",
    "data = pd.DataFrame(index=index,data=d)\n",
    "raw = BaseRaw(\n",
    "    name=\"myName\",\n",
    "    uuid='DeviceId',\n",
    "    format='Pandas',\n",
    "    axial_mode=None,\n",
    "    start_time=data.index[0],\n",
    "    period=(data.index[-1]-data.index[0]),\n",
    "    frequency=data.index.freq,\n",
    "    data=data['activity'],\n",
    "    light=[]\n",
    ")\n",
    "raw.data\n",
    "print(raw.duration())\n",
    "print(raw.length())\n",
    "print(raw.IS(binarize=False))\n",
    "print(raw.IV(binarize=False))\n",
    "print(raw.RA(binarize=False))"
   ]
  },
  {
   "cell_type": "code",
   "execution_count": null,
   "id": "9f00197d",
   "metadata": {},
   "outputs": [],
   "source": []
  },
  {
   "cell_type": "code",
   "execution_count": null,
   "id": "57966005",
   "metadata": {},
   "outputs": [],
   "source": []
  }
 ],
 "metadata": {
  "kernelspec": {
   "display_name": "Python 3",
   "language": "python",
   "name": "python3"
  },
  "language_info": {
   "codemirror_mode": {
    "name": "ipython",
    "version": 3
   },
   "file_extension": ".py",
   "mimetype": "text/x-python",
   "name": "python",
   "nbconvert_exporter": "python",
   "pygments_lexer": "ipython3",
   "version": "3.8.11"
  }
 },
 "nbformat": 4,
 "nbformat_minor": 5
}
