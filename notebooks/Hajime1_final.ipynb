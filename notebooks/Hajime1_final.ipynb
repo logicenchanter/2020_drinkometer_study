{
 "cells": [
  {
   "cell_type": "code",
   "execution_count": 2,
   "source": [
    "import numpy as np\r\n",
    "import pandas as pd\r\n",
    "import scipy as sc\r\n",
    "import os\r\n",
    "from datetime import date\r\n",
    "from os import listdir\r\n",
    "from os.path import isfile, join\r\n",
    "import math"
   ],
   "outputs": [],
   "metadata": {}
  },
  {
   "cell_type": "code",
   "execution_count": 15,
   "source": [
    "def d_day_index(f, n):\r\n",
    "    for i1 in range(n):\r\n",
    "        f.loc[i1, ['day_index']] = i1+1\r\n",
    "    return f\r\n",
    "\r\n",
    "\r\n",
    "def state_hour(f, n):\r\n",
    "    for i2 in range(n + 1):\r\n",
    "        dn = 24 * i2\r\n",
    "        f.loc[dn:dn + 6, ['state']] = str('dark')\r\n",
    "        f.loc[dn + 7:dn + 18, ['state']] = str('light')\r\n",
    "        f.loc[dn + 19:dn + 24, ['state']] = str('dark')\r\n",
    "    return f\r\n",
    "\r\n",
    "\r\n",
    "def m_day_and_hour_index(f, n):\r\n",
    "    h_counter = 1\r\n",
    "    for i3 in range(n + 1):\r\n",
    "        dn = 24 * i3\r\n",
    "        f.loc[dn:dn + 23, ['day_index']] = i3+1\r\n",
    "        for j3 in range(24):\r\n",
    "            interval_m = dn + j3\r\n",
    "            f.loc[interval_m:interval_m + 1, ['hour_index']] = h_counter\r\n",
    "            h_counter = h_counter + 1\r\n",
    "    return f\r\n",
    "\r\n",
    "\r\n",
    "def state_(f, n):\r\n",
    "    for i4 in range(n + 1):\r\n",
    "        dn = 1440 * i4\r\n",
    "        f.loc[dn:dn + 419, ['state']] = str('dark')\r\n",
    "        f.loc[dn + 420:dn + 1139, ['state']] = str('light')\r\n",
    "        f.loc[dn + 1140:dn + 1439, ['state']] = str('dark')\r\n",
    "    return f\r\n",
    "\r\n",
    "\r\n",
    "def day_and_hour_index(f, n):\r\n",
    "    h_counter = 1\r\n",
    "    for i5 in range(n + 1):\r\n",
    "        dn = 1440 * i5\r\n",
    "        f.loc[dn:dn + 1439, ['day_index']] = i5+1\r\n",
    "        for j5 in range(24):\r\n",
    "            interval_m = dn + (j5*60)\r\n",
    "            f.loc[interval_m:interval_m + 60, ['hour_index']] = h_counter\r\n",
    "            h_counter = h_counter + 1\r\n",
    "    return f\r\n"
   ],
   "outputs": [],
   "metadata": {}
  },
  {
   "cell_type": "markdown",
   "source": [
    "## Table for water\n",
    "<img src=\"liquid%20and%20food.jpg\">"
   ],
   "metadata": {}
  },
  {
   "cell_type": "code",
   "execution_count": null,
   "source": [
    "def max_daily_(gender, age, w, value):\r\n",
    "    #10.1016/B978-0-444-81871-3.50019-9\r\n",
    "    #10.3758/BF03326861\r\n",
    "    '''\r\n",
    "    Look at the table above!\r\n",
    "    '''\r\n",
    "    return(val)"
   ],
   "outputs": [],
   "metadata": {}
  },
  {
   "cell_type": "code",
   "execution_count": null,
   "source": [],
   "outputs": [],
   "metadata": {}
  },
  {
   "cell_type": "code",
   "execution_count": null,
   "source": [
    "def preference_(a5, a10, a20):\r\n",
    "    return((0.05 * a5 + 0.1 * a10 + 0.2 * a20)/(a5 + a10 + a20))"
   ],
   "outputs": [],
   "metadata": {}
  },
  {
   "cell_type": "markdown",
   "source": [
    "## Table for weight\n",
    "\n",
    "10.1080/10934529.2012.672071\n",
    "\n",
    "<img src=\"weight.png\">\n",
    "\n",
    "10.2310/7290.2013.00053\n",
    "<img src=\"weight_1.png\">"
   ],
   "metadata": {}
  },
  {
   "cell_type": "markdown",
   "source": [
    "Colman, Karyn. \"Impact of the genetics and source of preclinical safety animal models on study design, results, and interpretation.\" Toxicologic pathology 45.1 (2017): 94-106."
   ],
   "metadata": {}
  },
  {
   "cell_type": "code",
   "execution_count": 35,
   "source": [
    "def weight_calculator(gender, age, w):\r\n",
    "    if gender == str(wistar):\r\n",
    "        \r\n",
    "    return()"
   ],
   "outputs": [],
   "metadata": {}
  },
  {
   "cell_type": "code",
   "execution_count": 3,
   "source": [],
   "outputs": [],
   "metadata": {}
  },
  {
   "cell_type": "code",
   "execution_count": 58,
   "source": [
    "x = [3, 4, 5, 6, 7, 8, 9, 10, 11, 12]\r\n",
    "y = [38, 65, 96, 122, 156, 182, 197, 218, 229, 240]\r\n",
    "sigma = [3, 4, 5, 8, 8, 7, 9, 7, 9, 17]\r\n",
    "from scipy.optimize import curve_fit\r\n",
    "import matplotlib.pyplot as plt"
   ],
   "outputs": [],
   "metadata": {}
  },
  {
   "cell_type": "code",
   "execution_count": 62,
   "source": [
    "#Let’s try a polynomial regression model\r\n",
    "\r\n",
    "def func(x, a, b, c):\r\n",
    "    return a * x + b * x**2 + c\r\n",
    "popt, pcov = curve_fit(func, x, y, sigma = sigma, bounds=(- np.inf, 12))\r\n",
    "a, b,c = popt\r\n",
    "print('y = %.5f * x + %.5f * x^2 + %.5f' % (a, b, c))\r\n",
    "# plot input vs output\r\n",
    "plt.scatter(x, y)\r\n",
    "# define a sequence of inputs between the smallest and largest known inputs\r\n",
    "x_line = np.arange(min(x), max(x), 1)\r\n",
    "# calculate the output for the range\r\n",
    "y_line = func(x_line, a, b, c)\r\n",
    "# create a line plot for the mapping function\r\n",
    "plt.plot(x_line, y_line, '--', color='red')\r\n",
    "plt.show()\r\n"
   ],
   "outputs": [
    {
     "output_type": "stream",
     "name": "stdout",
     "text": [
      "y = 12.00000 * x + 0.97696 * x^2 + 1.88992\n"
     ]
    },
    {
     "output_type": "display_data",
     "data": {
      "image/png": "[encoded data removed]",
      "text/plain": [
       "<Figure size 640x480 with 1 Axes>"
      ]
     },
     "metadata": {}
    }
   ],
   "metadata": {}
  },
  {
   "cell_type": "code",
   "execution_count": 100,
   "source": [
    "#Let’s try a polynomial regression model\r\n",
    "\r\n",
    "\r\n",
    "def fsigmoid(x, a, b):\r\n",
    "#    return 1.0/(1.0 + np.exp(-a*(x-b)))\r\n",
    "    return  a + b * np.log(x)\r\n",
    "\r\n",
    "\r\n",
    "popt, pcov = curve_fit(fsigmoid, x, y)\r\n",
    "\r\n",
    "#popt, pcov = curve_fit(func, x, y, sigma = sigma)\r\n",
    "a, b = popt\r\n",
    "\r\n",
    "print(' %.5f -%.5f )' % (a, b))\r\n",
    "# plot input vs output\r\n",
    "plt.scatter(x, y)\r\n",
    "# define a sequence of inputs between the smallest and largest known inputs\r\n",
    "x_line = np.arange(min(x), max(x), 1)\r\n",
    "# calculate the output for the range\r\n",
    "y_line = fsigmoid(x_line, a, b)\r\n",
    "# create a line plot for the mapping function\r\n",
    "plt.plot(x_line, y_line, '--', color='red')\r\n",
    "plt.show()\r\n"
   ],
   "outputs": [
    {
     "output_type": "stream",
     "name": "stdout",
     "text": [
      " -145.39931 -155.33236 )\n"
     ]
    },
    {
     "output_type": "display_data",
     "data": {
      "image/png": "[encoded data removed]",
      "text/plain": [
       "<Figure size 640x480 with 1 Axes>"
      ]
     },
     "metadata": {}
    }
   ],
   "metadata": {}
  },
  {
   "cell_type": "code",
   "execution_count": null,
   "source": [
    "\r\n"
   ],
   "outputs": [],
   "metadata": {}
  },
  {
   "cell_type": "code",
   "execution_count": 102,
   "source": [
    "h = 24*120\r\n",
    "_x = math.ceil(((21*24)+h)/(24*7))\r\n",
    "print(_x)\r\n",
    "w_ = a + b * np.log(_x)\r\n",
    "w_"
   ],
   "outputs": [
    {
     "output_type": "stream",
     "name": "stdout",
     "text": [
      "21\n"
     ]
    },
    {
     "output_type": "execute_result",
     "data": {
      "text/plain": [
       "327.51355814177293"
      ]
     },
     "metadata": {},
     "execution_count": 102
    }
   ],
   "metadata": {}
  },
  {
   "cell_type": "code",
   "execution_count": null,
   "source": [],
   "outputs": [],
   "metadata": {}
  },
  {
   "cell_type": "code",
   "execution_count": null,
   "source": [],
   "outputs": [],
   "metadata": {}
  },
  {
   "cell_type": "code",
   "execution_count": 36,
   "source": [
    "def threshup_():\r\n",
    "    #DOI 10.1211/jpp.60.1.0008\r\n",
    "    th_u_comft = 3.38 + 0.52\r\n",
    "    #th_u_stretched = 4.63 + 0.44\r\n",
    "    #th_u_burst = 6.63 + 0.92\r\n",
    "    return th_u_comft"
   ],
   "outputs": [],
   "metadata": {}
  },
  {
   "cell_type": "code",
   "execution_count": 37,
   "source": [
    "def writer_(main_df, list_of_them, number, method, a_n):\r\n",
    "    print(number)\r\n",
    "    file = pd.read_excel(\"{}\".format(list_of_them[number]), skiprows=35)\r\n",
    "    if method == str('dep_onlywater'):\r\n",
    "        file_ = file.rename(columns={'Unnamed: 0': 'date', 'Unnamed: 1': 'time', 'Unnamed: 2': 'animal',\r\n",
    "                                     'Unnamed: 3': 'box', '[ml]': 'water'})\r\n",
    "        extracted_a1 = file_[file_['box'] == a_n]\r\n",
    "        list_index = list(file_[file_['box'] == a_n].index)\r\n",
    "        for i6 in range(len(extracted_a1)):\r\n",
    "            ind0 = main_df.loc[(main_df['date'] == extracted_a1['date'][list_index[i6]].strftime('%Y-%m-%d')) &\r\n",
    "                               (main_df['time'] == extracted_a1['time'][list_index[i6]].strftime('%H:%M:%S'))].index[0]\r\n",
    "            main_df.loc[ind0, 'water'] = extracted_a1['water'][list_index[i6]]\r\n",
    "    elif method == str('ade_only'):\r\n",
    "        file_ = file.rename(columns={'Unnamed: 0': 'date', 'Unnamed: 1': 'time', 'Unnamed: 2': 'animal',\r\n",
    "                                     'Unnamed: 3': 'box', '[ml]': 'water', '[ml].1': 'alcohol-5%',\r\n",
    "                                     '[ml].2': 'alcohol-10%', '[ml].3': 'alcohol-20%'})\r\n",
    "        extracted_a1 = file_[file_['box'] == a_n]\r\n",
    "        list_index = list(file_[file_['box'] == a_n].index)\r\n",
    "        for i7 in range(len(extracted_a1)):\r\n",
    "            ind1 = main_df.loc[(main_df['date'] == extracted_a1['date'][list_index[i7]].strftime('%Y-%m-%d')) &\r\n",
    "                               (main_df['time'] == extracted_a1['time'][list_index[i7]].strftime('%H:%M:%S'))].index[0]\r\n",
    "            main_df.loc[ind1, 'water'] = extracted_a1['water'][list_index[i7]]\r\n",
    "            main_df.loc[ind1, 'alcohol-5%'] = extracted_a1['alcohol-5%'][list_index[i7]]\r\n",
    "            main_df.loc[ind1, 'alcohol-10%'] = extracted_a1['alcohol-10%'][list_index[i7]]\r\n",
    "            main_df.loc[ind1, 'alcohol-20%'] = extracted_a1['alcohol-20%'][list_index[i7]]\r\n",
    "    elif method == str('ade_oxy'):\r\n",
    "        file_ = file.rename(columns={'Unnamed: 0': 'date', 'Unnamed: 1': 'time', 'Unnamed: 2': 'animal',\r\n",
    "                                     'Unnamed: 3': 'box', '[ml]': 'water', '[ml].1': 'alcohol-5%',\r\n",
    "                                     '[ml].2': 'alcohol-10%', '[ml].3': 'alcohol-20%'})\r\n",
    "        extracted_a1 = file_[file_['box'] == a_n]\r\n",
    "        list_index = list(file_[file_['box'] == a_n].index)\r\n",
    "        for i8 in range(len(extracted_a1)):\r\n",
    "            ind2 = main_df.loc[(main_df['date'] == extracted_a1['date'][list_index[i8]].strftime('%Y-%m-%d')) &\r\n",
    "                               (main_df['time'] == extracted_a1['time'][list_index[i8]].strftime('%H:%M:%S'))].index[0]\r\n",
    "            main_df.loc[ind2, 'water'] = extracted_a1['water'][list_index[i8]]\r\n",
    "            main_df.loc[ind2, 'alcohol-5%'] = extracted_a1['alcohol-5%'][list_index[i8]]\r\n",
    "            main_df.loc[ind2, 'alcohol-10%'] = extracted_a1['alcohol-10%'][list_index[i8]]\r\n",
    "            main_df.loc[ind2, 'alcohol-20%'] = extracted_a1['alcohol-20%'][list_index[i8]]\r\n",
    "            main_df.loc[ind2, 'oxytocin'] = str('applied')\r\n",
    "    elif method == str('dep_quinine'):\r\n",
    "        file_ = file.rename(columns={'Unnamed: 0': 'date', 'Unnamed: 1': 'time', 'Unnamed: 2': 'animal',\r\n",
    "                                     'Unnamed: 3': 'box', '[ml]': 'water'})\r\n",
    "        extracted_a1 = file_[file_['box'] == a_n]\r\n",
    "        list_index = list(file_[file_['box'] == a_n].index)\r\n",
    "        for i9 in range(len(extracted_a1)):\r\n",
    "            ind3 = main_df.loc[(main_df['date'] == extracted_a1['date'][list_index[i9]].strftime('%Y-%m-%d')) &\r\n",
    "                               (main_df['time'] == extracted_a1['time'][list_index[i9]].strftime('%H:%M:%S'))].index[0]\r\n",
    "            main_df.loc[ind3, 'water'] = extracted_a1['water'][list_index[i9]]\r\n",
    "            main_df.loc[ind3, 'quinine'] = str('applied')\r\n",
    "    elif method == str('ade_quinine'):\r\n",
    "        file_ = file.rename(columns={'Unnamed: 0': 'date', 'Unnamed: 1': 'time', 'Unnamed: 2': 'animal',\r\n",
    "                                     'Unnamed: 3': 'box', '[ml]': 'water', '[ml].1': 'alcohol-5%',\r\n",
    "                                     '[ml].2': 'alcohol-10%', '[ml].3': 'alcohol-20%'})\r\n",
    "        extracted_a1 = file_[file_['box'] == box]\r\n",
    "        list_index = list(file_[file_['box'] == a_n].index)\r\n",
    "        for i10 in range(len(extracted_a1)):\r\n",
    "            ind4 = main_df.loc[(main_df['date'] == extracted_a1['date'][list_index[i10]].strftime('%Y-%m-%d')) &\r\n",
    "                               (main_df['time'] == extracted_a1['time'][list_index[i10]].strftime('%H:%M:%S'))].index[0]\r\n",
    "            main_df.loc[ind4, 'water'] = extracted_a1['water'][list_index[i10]]\r\n",
    "            main_df.loc[ind4, 'alcohol-5%'] = extracted_a1['alcohol-5%'][list_index[i10]]\r\n",
    "            main_df.loc[ind4, 'alcohol-10%'] = extracted_a1['alcohol-10%'][list_index[i10]]\r\n",
    "            main_df.loc[ind4, 'alcohol-20%'] = extracted_a1['alcohol-20%'][list_index[i10]]\r\n",
    "            main_df.loc[ind4, 'quinine'] = str('applied')\r\n",
    "    else:\r\n",
    "        print(\"{} is non of them\".format(list_of_them[number]))\r\n",
    "    return main_df"
   ],
   "outputs": [],
   "metadata": {}
  },
  {
   "cell_type": "code",
   "execution_count": 10,
   "source": [
    "print(\"Please enter the animal code:\")\r\n",
    "animal = input()\r\n",
    "print(\"Please enter the box number:\")\r\n",
    "box = input()\r\n",
    "print(\"Please enter the strain of the animal\")\r\n",
    "strain = input()\r\n",
    "print(\"Please enter the start date:(year)\")\r\n",
    "d1 = input()\r\n",
    "print(\"Please enter the start date:(month)\")\r\n",
    "d2 = input()\r\n",
    "print(\"Please enter the start date:(day)\")\r\n",
    "d3 = input()\r\n",
    "date_i = date(int(d1), int(d2), int(d3))\r\n",
    "print(\"Please enter the end date:(year)\")\r\n",
    "d4 = input()\r\n",
    "print(\"Please enter the end date:(month)\")\r\n",
    "d5 = input()\r\n",
    "print(\"Please enter the end date:(day)\")\r\n",
    "d6 = input()\r\n",
    "date_f = date(int(d4), int(d5), int(d6))\r\n"
   ],
   "outputs": [
    {
     "output_type": "stream",
     "name": "stdout",
     "text": [
      "Please enter the animal code:\n",
      "1003\n",
      "Please enter the box number:\n",
      "3\n",
      "Please enter the strain of the animal\n",
      "Wistar\n",
      "Please enter the start date:(year)\n",
      "2020\n",
      "Please enter the start date:(month)\n",
      "02\n",
      "Please enter the start date:(day)\n",
      "12\n",
      "Please enter the end date:(year)\n",
      "2020\n",
      "Please enter the end date:(month)\n",
      "11\n",
      "Please enter the end date:(day)\n",
      "17\n"
     ]
    }
   ],
   "metadata": {}
  },
  {
   "cell_type": "code",
   "execution_count": 16,
   "source": [
    "delta = date_f - date_i\r\n",
    "number_of_days = int(delta.days)+1\r\n",
    "print(\"Experiement was {} days long\".format(number_of_days))\r\n",
    "\r\n",
    "total_length = number_of_days * 1440      #length of dataframe for minute time_scale\r\n",
    "df = pd.DataFrame(index = range(total_length), columns = ['data', 'time', 'day_index', 'hour_index',\r\n",
    "                                                         'animal', 'box', 'strain',\r\n",
    "                                                         'state', 'oxytocin', 'quinine', 'water',\r\n",
    "                                                         'alcohol_5%', 'alsohol_10%', 'alcohol_20%',\r\n",
    "                                                         'locomotive'])\r\n",
    "\r\n",
    "df = state_(df, number_of_days)\r\n",
    "df = day_and_hour_index(df, number_of_days)\r\n",
    "df['animal'] = animal\r\n",
    "df['box'] = box\r\n",
    "df['strain'] = strain\r\n",
    "df['date'] = pd.date_range(\"{}-{}-{}\".format(d1,d2,d3), periods=total_length, freq=\"T\").strftime('%Y-%m-%d')\r\n",
    "df['date'] = pd.date_range(\"{}-{}-{}\".format(d1,d2,d3), periods=total_length, freq=\"T\").strftime('%H:%M:%S')\r\n",
    "\r\n",
    "path = os.getcwd()\r\n",
    "path = path+'\\\\data\\\\2020'\r\n",
    "onlyfiles = [f for f in listdir(\"{}\".format(path))\r\n",
    "             if isfile(join(\"{}\".format(path), f))]"
   ],
   "outputs": [
    {
     "output_type": "stream",
     "name": "stdout",
     "text": [
      "Experiement was 280 days long\n"
     ]
    }
   ],
   "metadata": {}
  },
  {
   "cell_type": "code",
   "execution_count": 25,
   "source": [
    "#scrolling over all files for the current animal\r\n",
    "\r\n",
    "df = writer_(df, onlyfiles, 0, str('dep_onlywater'), box)\r\n",
    "df = writer_(df, onlyfiles, 1, str('ade_only'), box)\r\n",
    "df = writer_(df, onlyfiles, 2, str('ade_only'), box)\r\n",
    "df = writer_(df, onlyfiles, 3, str('ade_only'), box)\r\n",
    "df = writer_(df, onlyfiles, 4, str('ade_only'), box)\r\n",
    "df = writer_(df, onlyfiles, 5, str('dep_onlywater'), box)\r\n",
    "df = writer_(df, onlyfiles, 6, str('dep_onlywater'), box)\r\n",
    "df = writer_(df, onlyfiles, 7, str('ade_only'), box)\r\n",
    "df = writer_(df, onlyfiles, 8, str('ade_only'), box)\r\n",
    "df = writer_(df, onlyfiles, 9, str('ade_only'), box)\r\n",
    "df = writer_(df, onlyfiles, 10, str('ade_only'), box)\r\n",
    "\r\n",
    "df = writer_(df, onlyfiles, 11, str('dep_onlywater'), box)\r\n",
    "df = writer_(df, onlyfiles, 12, str('dep_onlywater'), box)\r\n",
    "df = writer_(df, onlyfiles, 13, str('ade_only'), box)\r\n",
    "df = writer_(df, onlyfiles, 14, str('ade_only'), box)\r\n",
    "df = writer_(df, onlyfiles, 15, str('ade_only'), box)\r\n",
    "df = writer_(df, onlyfiles, 16, str('ade_only'), box)\r\n",
    "df = writer_(df, onlyfiles, 17, str('dep_onlywater'), box)\r\n",
    "df = writer_(df, onlyfiles, 18, str('dep_onlywater'), box)\r\n",
    "df = writer_(df, onlyfiles, 19, str('ade_only'), box)\r\n",
    "df = writer_(df, onlyfiles, 20, str('ade_only'), box)\r\n",
    "\r\n",
    "df = writer_(df, onlyfiles, 21, str('ade_only'), box)\r\n",
    "df = writer_(df, onlyfiles, 22, str('ade_only'), box)\r\n",
    "df = writer_(df, onlyfiles, 23, str('dep_onlywater'), box)\r\n",
    "df = writer_(df, onlyfiles, 24, str('dep_onlywater'), box)\r\n",
    "df = writer_(df, onlyfiles, 25, str('ade_only'), box)\r\n",
    "df = writer_(df, onlyfiles, 26, str('dep_onlywater'), box)\r\n",
    "df = writer_(df, onlyfiles, 27, str('dep_onlywater'), box)\r\n",
    "df = writer_(df, onlyfiles, 28, str('ade_quinine'), box)\r\n",
    "df = writer_(df, onlyfiles, 29, str('ade_only'), box)\r\n",
    "df = writer_(df, onlyfiles, 30, str('dep_onlywater'), box)\r\n",
    "\r\n",
    "df = writer_(df, onlyfiles, 31, str('ade_quinine'), box)\r\n",
    "df = writer_(df, onlyfiles, 32, str('ade_only'), box)\r\n",
    "df = writer_(df, onlyfiles, 33, str('ade_only'), box)\r\n",
    "df = writer_(df, onlyfiles, 34, str('dep_onlywater'), box)\r\n",
    "df = writer_(df, onlyfiles, 35, str('ade_oxy'), box)"
   ],
   "outputs": [],
   "metadata": {}
  },
  {
   "cell_type": "code",
   "execution_count": null,
   "source": [
    "#df.to_csv(r'C:\\Users\\mehrd\\Desktop\\work\\ivan_colab\\fun\\run\\drinkometer_df_w_1002_2_raw.csv', index=False, header=True)\r\n",
    "df.to_excel(r'C:\\Users\\mehrd\\Desktop\\work\\ivan_colab\\fun\\run\\drinkometer_df_w_1003_3_raw.xlsx', index=False, header=True)\r\n"
   ],
   "outputs": [],
   "metadata": {}
  },
  {
   "cell_type": "code",
   "execution_count": null,
   "source": [],
   "outputs": [],
   "metadata": {}
  },
  {
   "cell_type": "code",
   "execution_count": null,
   "source": [
    "df1 = pd.DataFrame(index=range(total_length), columns=['date', 'time', 'day_index', 'hour_index', 'animal', 'box',\r\n",
    "                                                       'strain', 'state', 'oxytocin', 'quinine', 'water',\r\n",
    "                                                       'alcohol-5%', 'alcohol-10%', 'alcohol-20%', 'locomotive'])"
   ],
   "outputs": [],
   "metadata": {}
  },
  {
   "cell_type": "code",
   "execution_count": null,
   "source": [
    "df1 = state_(df1, number_of_days)\r\n",
    "df1 = day_and_hour_index(df1, number_of_days)\r\n",
    "df1['animal'] = animal\r\n",
    "df1['box'] = box\r\n",
    "df1['strain'] = strain\r\n",
    "df1['date'] = pd.date_range(\"{}-{}-{}\".format(d1,d2,d3), periods=total_length, freq=\"T\").strftime('%Y-%m-%d')\r\n",
    "df1['date'] = pd.date_range(\"{}-{}-{}\".format(d1,d2,d3), periods=total_length, freq=\"T\").strftime('%H:%M:%S')\r\n",
    "df1['quinine'] = df['quinine']\r\n",
    "df1['oxytocin'] = df['oxytocin']\r\n",
    "df1['state'] = df['state']\r\n",
    "\r\n",
    "for hour in range(1, number_of_days * 24 + 1):\r\n",
    "    df_extracted = df.loc[(df['hour_index'] == hour) & (df['water'].notnull())]\r\n",
    "    list_ = np.array(df_extracted.water.index)\r\n",
    "    if len(list_) > 1:\r\n",
    "        for i in range(len(list_) - 1):\r\n",
    "            temp_val = df.loc[list_[i + 1], 'water'] - df.loc[list_[i], 'water']\r\n",
    "            if temp_val != 0.0:\r\n",
    "                df1.loc[list_[i + 1], 'water'] = temp_val\r\n",
    "    df_extracted = df.loc[(df['hour_index'] == hour) & (df['alcohol-5%'].notnull())]\r\n",
    "    list_ = np.array(df_extracted.water.index)\r\n",
    "    if len(list_) > 1:\r\n",
    "        for i in range(len(list_) - 1):\r\n",
    "            temp_val = df.loc[list_[i + 1], 'alcohol-5%'] - df.loc[list_[i], 'alcohol-5%']\r\n",
    "            if temp_val != 0.0:\r\n",
    "                df1.loc[list_[i + 1], 'alcohol-5%'] = temp_val\r\n",
    "    df_extracted = df.loc[(df['hour_index'] == hour) & (df['alcohol-10%'].notnull())]\r\n",
    "    list_ = np.array(df_extracted.water.index)\r\n",
    "    if len(list_) > 1:\r\n",
    "        for i in range(len(list_) - 1):\r\n",
    "            temp_val = df.loc[list_[i + 1], 'alcohol-10%'] - df.loc[list_[i], 'alcohol-10%']\r\n",
    "            if temp_val != 0.0:\r\n",
    "                df1.loc[list_[i + 1], 'alcohol-10%'] = temp_val\r\n",
    "    df_extracted = df.loc[(df['hour_index'] == hour) & (df['alcohol-20%'].notnull())]\r\n",
    "    list_ = np.array(df_extracted.water.index)\r\n",
    "    if len(list_) > 1:\r\n",
    "        for i in range(len(list_) - 1):\r\n",
    "            temp_val = df.loc[list_[i + 1], 'alcohol-20%'] - df.loc[list_[i], 'alcohol-20%']\r\n",
    "            if temp_val != 0.0:\r\n",
    "                df1.loc[list_[i + 1], 'alcohol-20%'] = temp_val\r\n",
    "\r\n",
    "df1_wl = loco_writer(1, df1)\r\n",
    "df1_wl.to_excel(r'C:\\Users\\mehrd\\Desktop\\work\\ivan_colab\\fun\\run\\drinkometer_df_w_1003_3_consumption.xlsx', index=False, header=True)\r\n"
   ],
   "outputs": [],
   "metadata": {}
  },
  {
   "cell_type": "code",
   "execution_count": null,
   "source": [
    "#df1.to_csv(r'C:\\Users\\mehrd\\Desktop\\work\\ivan_colab\\fun\\run\\drinkometer_df_w_1002_2_consumption.csv', index=False, header=True)\r\n",
    "df1.to_excel(r'C:\\Users\\mehrd\\Desktop\\work\\ivan_colab\\fun\\run\\drinkometer_df_w_1003_3_consumption.xlsx', index=False, header=True)\r\n"
   ],
   "outputs": [],
   "metadata": {}
  },
  {
   "cell_type": "code",
   "execution_count": null,
   "source": [],
   "outputs": [],
   "metadata": {}
  },
  {
   "cell_type": "code",
   "execution_count": null,
   "source": [],
   "outputs": [],
   "metadata": {}
  },
  {
   "cell_type": "code",
   "execution_count": null,
   "source": [],
   "outputs": [],
   "metadata": {}
  },
  {
   "cell_type": "code",
   "execution_count": null,
   "source": [],
   "outputs": [],
   "metadata": {}
  },
  {
   "cell_type": "markdown",
   "source": [
    "# threshold low reason:\n",
    "The system is \"drifting\" continuously - look at the data, it measures 0.01-0.02 ml continuously, every half an hour or so (different for every sensor). This is not drinking, this is some error of the sensor. Design of the sensor is not perfect, it reacts to room temperature and to the weight of the bottle, this is where this \"drifting\" comes from. So, this evenly distributed small value must be deleted. \"Drifting\" is stronger when the bottles have just been hanged, because the sensor takes time to adjust to the weight. If sensors were not used for a long time it is recommended to let the sensor adjust to the bottles for 24 hours before starting measurements, because this \"drifting\" will be too strong otherwise. Also, you need to recalibrate them time to time. And yes, it also happens that some drops are lost, especially when bottles have just been hanged. \n",
    "To make a long story short - I was checking the change of bottle weight (on the computer monitor) when the rat was actually drinking - rat never drinks below 0.1 ml. So, with a clear conscience, everything below 0.1 ml is probably not drinking and can be deleted. \n",
    "But the proper mathematical way to get rid of this problem would be different, you can of course create a filter that identifies real drinking bouts and filters everything else. But since I have no mathematical knowledge, I just used the simple \"if '' function.\n"
   ],
   "metadata": {}
  },
  {
   "cell_type": "code",
   "execution_count": null,
   "source": [
    "def real_consump(val, w, p):\r\n",
    "    a = np.nan\r\n",
    "    if (p == 5):\r\n",
    "        a = (w*0.05*0.789)/(val *1000)\r\n",
    "    elif (p == 10):\r\n",
    "        a = (w*0.1*0.789)/(val *1000)\r\n",
    "    elif ( p == 20 ):\r\n",
    "        a = (w*0.2*0.789)/(val *1000)\r\n",
    "    else:\r\n",
    "        print(\"You messed up the input in real_consump function\")\r\n",
    "    return(a)\r\n",
    "\r\n",
    "\r\n",
    "\r\n",
    "def wistar_w(g, h):\r\n",
    "    # https://animal.ncku.edu.tw/p/412-1130-16363.php?Lang=en\r\n",
    "    def fsigmoid(x, a, b):\r\n",
    "        return  a + b * np.log(x)\r\n",
    "    if g == str(\"male\"):\r\n",
    "        x = [3, 4, 5, 6, 7, 8, 9, 10, 11, 12]\r\n",
    "        y = [48, 79, 116, 149, 195, 240, 291, 231, 342, 362]\r\n",
    "        sigma = [5.6, 8.8, 12, 16, 20, 22, 22, 22, 22, 22]\r\n",
    "    elif g == str(\"female\"):\r\n",
    "        x = [3, 4, 5, 6, 7, 8, 9, 10, 11, 12]\r\n",
    "        y = [38, 65, 96, 122, 156, 182, 197, 218, 229, 240]\r\n",
    "        sigma = [3, 4, 5, 8, 8, 7, 9, 7, 9, 17]\r\n",
    "    else:\r\n",
    "        print(\"You fucked up the gender on weight optimizer.\")\r\n",
    "    popt, pcov = curve_fit(fsigmoid, x, y)\r\n",
    "    a, b = popt\r\n",
    "    _x = math.ceil(((21*24)+h)/(24*7))\r\n",
    "    #print(_x)\r\n",
    "    return a + b * np.log(_x)"
   ],
   "outputs": [],
   "metadata": {}
  },
  {
   "cell_type": "code",
   "execution_count": null,
   "source": [
    "w_w = wistar_w(gender, hour)\r\n",
    "temp__ = real_consump(temp_, w_w, 5)"
   ],
   "outputs": [],
   "metadata": {}
  },
  {
   "cell_type": "code",
   "execution_count": null,
   "source": [
    "threshold_low = 0.08\r\n",
    "threshold_up = threshup_(number_of_days)\r\n",
    "total_length_h = number_of_days * 24\r\n",
    "\r\n",
    "df_h = pd.DataFrame(index=range(number_of_days * 24), columns=['date', 'time', 'day_index', 'hour_index', 'animal',\r\n",
    "                                                               'box', 'strain', 'state', 'oxytocin', 'quinine',\r\n",
    "                                                               'water', 'alcohol-5%', 'alcohol-10%', 'alcohol-20%', 'locomotive'])\r\n",
    "df_h = m_day_and_hour_index(df_h, number_of_days)\r\n",
    "df_h = state_hour(df_h, number_of_days)\r\n",
    "\r\n",
    "df_h['animal'] = animal\r\n",
    "df_h['box'] = box\r\n",
    "df_h['strain'] = strain\r\n",
    "df_h['date'] = pd.date_range(\"2020-02-12\", periods=number_of_days * 24, freq=\"H\").strftime('%Y-%m-%d')\r\n",
    "df_h['time'] = pd.date_range(\"2020-02-12\", periods=number_of_days * 24, freq=\"H\").strftime('%H:%M:%S')\r\n",
    "\r\n",
    "hours = sorted(set(np.array(df1.loc[(df1['quinine'] == str('applied'))].hour_index)))\r\n",
    "for i in range(len(hours)):\r\n",
    "    df_h.loc[hours[i]-1, 'quinine'] = str('applied')\r\n",
    "\r\n",
    "hours = sorted(set(np.array(df1.loc[(df1['oxytocin'] == str('applied'))].hour_index)))\r\n",
    "for i in range(len(hours)):\r\n",
    "    df_h.loc[hours[i]-1, 'oxytocin'] = str('applied')\r\n",
    "\r\n",
    "\r\n",
    "for hour in range(1, number_of_days*24+1):\r\n",
    "    w_w = wistar_w(gender, hour)\r\n",
    "    list_ = []\r\n",
    "    ind = np.array(df_h.loc[(df_h['hour_index'] == hour)].index)\r\n",
    "    df_extracted = df1.loc[(df1['hour_index'] == hour) & (df1['water'].notnull())]\r\n",
    "    temp_arr = np.array(df_extracted['water'])\r\n",
    "    if len(temp_arr[temp_arr > threshold_low]) > 1:\r\n",
    "        _temp = np.nansum(temp_arr[temp_arr > threshold_low])\r\n",
    "        if (_temp < threshold_up):\r\n",
    "            df_h.loc[ind, 'water'] = _temp\r\n",
    "            _temp = np.nan\r\n",
    "\r\n",
    "    list_ = []\r\n",
    "    ind = np.array(df_h.loc[(df_h['hour_index'] == hour)].index)\r\n",
    "    df_extracted = df1.loc[(df1['hour_index'] == hour) & (df1['alcohol-5%'].notnull())]\r\n",
    "    temp_arr = np.array(df_extracted['alcohol-5%'])\r\n",
    "    if len(temp_arr[temp_arr > threshold_low]) > 1:\r\n",
    "        _temp = np.nansum(temp_arr[temp_arr > threshold_low])\r\n",
    "        if (_temp < threshold_up ):\r\n",
    "            temp__ = real_consump(_temp, w_w, 5)\r\n",
    "            df_h.loc[ind, 'alcohol-5%'] = temp__\r\n",
    "            _temp = np.nan\r\n",
    "        \r\n",
    "\r\n",
    "    list_ = []\r\n",
    "    ind = np.array(df_h.loc[(df_h['hour_index'] == hour)].index)\r\n",
    "    df_extracted = df1.loc[(df1['hour_index'] == hour) & (df1['alcohol-10%'].notnull())]\r\n",
    "    temp_arr = np.array(df_extracted['alcohol-10%'])\r\n",
    "    if len(temp_arr[temp_arr > threshold_low]) > 1:\r\n",
    "        _temp = np.nansum(temp_arr[temp_arr > threshold_low])\r\n",
    "        if (_temp < threshold_up):\r\n",
    "            temp__ = real_consump(_temp, w_w, 10)\r\n",
    "            df_h.loc[ind, 'alcohol-10%'] = temp__\r\n",
    "            _temp = np.nan\r\n",
    "\r\n",
    "\r\n",
    "    list_ = []\r\n",
    "    ind = np.array(df_h.loc[(df_h['hour_index'] == hour)].index)\r\n",
    "    df_extracted = df1.loc[(df1['hour_index'] == hour) & (df1['alcohol-20%'].notnull())]\r\n",
    "    temp_arr = np.array(df_extracted['alcohol-20%'])\r\n",
    "    if len(temp_arr[temp_arr > threshold_low]) > 1:\r\n",
    "        _temp = np.nansum(temp_arr[temp_arr > threshold_low])\r\n",
    "        if (_temp < threshold_up):\r\n",
    "            temp__ = real_consump(_temp, w_w, 20)\r\n",
    "            df_h.loc[ind, 'alcohol-20%'] = temp__\r\n",
    "            _temp = np.nan\r\n",
    "\r\n",
    "number_of_days = 280\r\n",
    "for hour in range(1, number_of_days*24+1):\r\n",
    "    list_ = []\r\n",
    "    ind = np.array(df_h.loc[(df_h['hour_index'] == hour)].index)\r\n",
    "    df_extracted = df1_wl.loc[(df1_wl['hour_index'] == hour) & (df1_wl['locomotive'].notnull())]\r\n",
    "    temp_arr = np.array(df_extracted['locomotive'])\r\n",
    "    if len(temp_arr) > 1:\r\n",
    "        df_h.loc[ind, 'locomotive'] = np.nansum(temp_arr)"
   ],
   "outputs": [],
   "metadata": {}
  },
  {
   "cell_type": "code",
   "execution_count": null,
   "source": [
    "df_h.to_excel(r'C:\\Users\\mehrd\\Desktop\\work\\drinking\\fun\\run\\drinkometer_df_w_1002_2_hourly.xlsx', index=False, header=True)\r\n"
   ],
   "outputs": [],
   "metadata": {}
  },
  {
   "cell_type": "code",
   "execution_count": null,
   "source": [],
   "outputs": [],
   "metadata": {}
  },
  {
   "cell_type": "code",
   "execution_count": null,
   "source": [],
   "outputs": [],
   "metadata": {}
  },
  {
   "cell_type": "code",
   "execution_count": null,
   "source": [],
   "outputs": [],
   "metadata": {}
  },
  {
   "cell_type": "code",
   "execution_count": null,
   "source": [],
   "outputs": [],
   "metadata": {}
  },
  {
   "cell_type": "code",
   "execution_count": null,
   "source": [],
   "outputs": [],
   "metadata": {}
  },
  {
   "cell_type": "code",
   "execution_count": null,
   "source": [],
   "outputs": [],
   "metadata": {}
  },
  {
   "cell_type": "code",
   "execution_count": null,
   "source": [
    "df_d_light = pd.DataFrame(index=range(number_of_days), columns=['date', 'day_index', 'animal', 'box',\r\n",
    "                                                                'strain', 'state', 'oxytocin', 'quinine', 'water',\r\n",
    "                                                                'alcohol-5%', 'alcohol-10%', 'alcohol-20%', 'locomotive'])\r\n",
    "\r\n",
    "df_d_dark = pd.DataFrame(index=range(number_of_days), columns=['date', 'day_index', 'animal', 'box',\r\n",
    "                                                               'strain', 'state', 'oxytocin', 'quinine',\r\n",
    "                                                               'water', 'alcohol-5%', 'alcohol-10%', 'alcohol-20%', 'locomotive'])\r\n",
    "\r\n",
    "df_d_light = d_day_index(df_d_light, number_of_days)\r\n",
    "df_d_dark = d_day_index(df_d_dark, number_of_days)\r\n",
    "\r\n",
    "df_d_light['animal'] = animal\r\n",
    "df_d_light['box'] = box\r\n",
    "df_d_light['strain'] = strain\r\n",
    "df_d_light['state'] = str('light')\r\n",
    "df_d_light['date'] = pd.date_range(\"2020-02-12\", periods=number_of_days, freq=\"D\").strftime('%Y-%m-%d')\r\n",
    "\r\n",
    "df_d_dark['animal'] = animal\r\n",
    "df_d_dark['box'] = box\r\n",
    "df_d_dark['strain'] = strain\r\n",
    "df_d_dark['state'] = str('dark')\r\n",
    "df_d_dark['date'] = pd.date_range(\"2020-02-12\", periods=number_of_days, freq=\"D\").strftime('%Y-%m-%d')\r\n",
    "\r\n",
    "\r\n",
    "days = sorted(set(np.array(df1.loc[(df1['quinine'] == str('applied'))].day_index)))\r\n",
    "for i in range(len(days)):\r\n",
    "    df_d_dark.loc[days[i]-1, 'quinine'] = str('applied')\r\n",
    "    df_d_light.loc[days[i]-1, 'quinine'] = str('applied')\r\n",
    "\r\n",
    "days = sorted(set(np.array(df1.loc[(df1['oxytocin'] == str('applied'))].day_index)))\r\n",
    "for i in range(len(days)):\r\n",
    "    df_d_dark.loc[days[i]-1, 'oxytocin'] = str('applied')\r\n",
    "    df_d_light.loc[days[i]-1, 'oxytocin'] = str('applied')\r\n",
    "\r\n",
    "\r\n",
    "for day in range(1, number_of_days+1):\r\n",
    "    list_ = []\r\n",
    "    ind = np.array(df_d_light.loc[(df_d_light['day_index'] == day)].index)\r\n",
    "    df_extracted = df1.loc[(df1['day_index'] == day) & (df1['state'] == str('light')) & (df1['water'].notnull())]\r\n",
    "    temp_arr = np.array(df_extracted['water'])\r\n",
    "    if len(temp_arr[temp_arr > threshold]) > 1:\r\n",
    "        df_d_light.loc[ind, 'water'] = np.nansum(temp_arr[temp_arr > threshold])\r\n",
    "    df_extracted = df1.loc[(df1['day_index'] == day) & (df1['state'] == str('dark')) & (df1['water'].notnull())]\r\n",
    "    temp_arr = np.array(df_extracted['water'])\r\n",
    "    if len(temp_arr[temp_arr > threshold]) > 1:\r\n",
    "        df_d_dark.loc[ind, 'water'] = np.nansum(temp_arr[temp_arr > threshold])\r\n",
    "\r\n",
    "    list_ = []\r\n",
    "\r\n",
    "    df_extracted = df1.loc[(df1['day_index'] == day) & (df1['state'] == str('light')) & (df1['alcohol-5%'].notnull())]\r\n",
    "    temp_arr = np.array(df_extracted['alcohol-5%'])\r\n",
    "    if len(temp_arr[temp_arr > threshold]) > 1:\r\n",
    "        df_d_light.loc[ind, 'alcohol-5%'] = np.nansum(temp_arr[temp_arr > threshold])\r\n",
    "    df_extracted = df1.loc[(df1['day_index'] == day) & (df1['state'] == str('dark')) & (df1['alcohol-5%'].notnull())]\r\n",
    "    temp_arr = np.array(df_extracted['alcohol-5%'])\r\n",
    "    if len(temp_arr[temp_arr > threshold]) > 1:\r\n",
    "        df_d_dark.loc[ind, 'alcohol-5%'] = np.nansum(temp_arr[temp_arr > threshold])\r\n",
    "\r\n",
    "    list_ = []\r\n",
    "\r\n",
    "    df_extracted = df1.loc[(df1['day_index'] == day) & (df1['state'] == str('light')) & (df1['alcohol-10%'].notnull())]\r\n",
    "    temp_arr = np.array(df_extracted['alcohol-10%'])\r\n",
    "    if len(temp_arr[temp_arr > threshold]) > 1:\r\n",
    "        df_d_light.loc[ind, 'alcohol-10%'] = np.nansum(temp_arr[temp_arr > threshold])\r\n",
    "    df_extracted = df1.loc[(df1['day_index'] == day) & (df1['state'] == str('dark')) & (df1['alcohol-10%'].notnull())]\r\n",
    "    temp_arr = np.array(df_extracted['alcohol-10%'])\r\n",
    "    if len(temp_arr[temp_arr > threshold]) > 1:\r\n",
    "        df_d_dark.loc[ind, 'alcohol-10%'] = np.nansum(temp_arr[temp_arr > threshold])\r\n",
    "\r\n",
    "    list_ = []\r\n",
    "\r\n",
    "    df_extracted = df1.loc[(df1['day_index'] == day) & (df1['state'] == str('light')) & (df1['alcohol-20%'].notnull())]\r\n",
    "    temp_arr = np.array(df_extracted['alcohol-20%'])\r\n",
    "    if len(temp_arr[temp_arr > threshold]) > 1:\r\n",
    "        df_d_light.loc[ind, 'alcohol-20%'] = np.nansum(temp_arr[temp_arr > threshold])\r\n",
    "    df_extracted = df1.loc[(df1['day_index'] == day) & (df1['state'] == str('dark')) & (df1['alcohol-20%'].notnull())]\r\n",
    "    temp_arr = np.array(df_extracted['alcohol-20%'])\r\n",
    "    if len(temp_arr[temp_arr > threshold]) > 1:\r\n",
    "        df_d_dark.loc[ind, 'alcohol-20%'] = np.nansum(temp_arr[temp_arr > threshold])\r\n",
    "\r\n",
    "for day in range(1, number_of_days+1):\r\n",
    "    list_ = []\r\n",
    "    ind = np.array(df_d_light.loc[(df_d_light['day_index'] == day)].index)\r\n",
    "    df_extracted = df1_wl.loc[(df1_wl['day_index'] == day) & (df1_wl['state'] == str('light')) & (df1_wl['locomotive'].notnull())]\r\n",
    "    temp_arr = np.array(df_extracted['locomotive'])\r\n",
    "    if len(temp_arr) > 1:\r\n",
    "        df_d_light.loc[ind, 'locomotive'] = np.nansum(temp_arr)\r\n",
    "    df_extracted = df1_wl.loc[(df1_wl['day_index'] == day) & (df1_wl['state'] == str('dark')) & (df1_wl['locomotive'].notnull())]\r\n",
    "    temp_arr = np.array(df_extracted['locomotive'])\r\n",
    "    if len(temp_arr) > 1:\r\n",
    "        df_d_dark.loc[ind, 'locomotive'] = np.nansum(temp_arr)"
   ],
   "outputs": [],
   "metadata": {}
  },
  {
   "cell_type": "code",
   "execution_count": null,
   "source": [
    "df_d_dark.to_excel(r'C:\\Users\\mehrd\\Desktop\\work\\drinking\\fun\\run\\drinkometer_df_w_1002_2_daily_dark.xlsx', index=False, header=True)\r\n",
    "df_d_light.to_excel(r'C:\\Users\\mehrd\\Desktop\\work\\drinking\\fun\\run\\drinkometer_df_w_1002_2_daily_light.xlsx', index=False, header=True)\r\n"
   ],
   "outputs": [],
   "metadata": {}
  },
  {
   "cell_type": "code",
   "execution_count": null,
   "source": [],
   "outputs": [],
   "metadata": {}
  },
  {
   "cell_type": "code",
   "execution_count": null,
   "source": [],
   "outputs": [],
   "metadata": {}
  }
 ],
 "metadata": {
  "kernelspec": {
   "name": "python3",
   "display_name": "Python 3.8.11 64-bit ('base': conda)"
  },
  "language_info": {
   "codemirror_mode": {
    "name": "ipython",
    "version": 3
   },
   "file_extension": ".py",
   "mimetype": "text/x-python",
   "name": "python",
   "nbconvert_exporter": "python",
   "pygments_lexer": "ipython3",
   "version": "3.8.11"
  },
  "interpreter": {
   "hash": "98e784c0672b4fc6020370d8959809b51967d0dfc2b50780aabe93f5798b5f7e"
  }
 },
 "nbformat": 4,
 "nbformat_minor": 5
}